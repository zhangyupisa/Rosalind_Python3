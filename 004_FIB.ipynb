{
 "cells": [
  {
   "cell_type": "markdown",
   "metadata": {},
   "source": [
    "# Problem Title: Rabbits and Recurrence Relations\n",
    "## Basic information\n",
    "<li>Enviroment: python3.7.9</li>\n",
    "<li>Rosalind ID: FIB</li>\n",
    "<li>Rosalind #: 004</li>\n",
    "<li>URL: http://rosalind.info/problems/fib/</li>\n",
    "<li>Main target: Understand recurrence relation, and constract if-else function .</li>\n",
    "\n",
    "## Flow\n",
    "<ol>\n",
    "<li>Read sequence from the file downloaded.</li>\n",
    "<li>Define the if-else function from the recurrence relation.</li>\n",
    "<li>Calculate.</li>\n",
    "</ol>"
   ]
  },
  {
   "cell_type": "code",
   "execution_count": 5,
   "metadata": {},
   "outputs": [
    {
     "name": "stdout",
     "output_type": "stream",
     "text": [
      "22906492245\n"
     ]
    }
   ],
   "source": [
    "filename = 'data/rosalind_fib.txt'\n",
    "file = open(filename)\n",
    "def Fib(n,k):\n",
    "    if n < 1:\n",
    "        return 0\n",
    "    elif n == 1:\n",
    "        return 1\n",
    "    elif n == 2:\n",
    "        return 1\n",
    "    else:\n",
    "        return Fib(n-1,k) + k*Fib(n-2, k)\n",
    "n,k = map(int, file.read().split()) #split()切割数字，map()通过映射赋值\n",
    "print(Fib(n,k))"
   ]
  }
 ],
 "metadata": {
  "kernelspec": {
   "display_name": "Python 3",
   "language": "python",
   "name": "python3"
  },
  "language_info": {
   "codemirror_mode": {
    "name": "ipython",
    "version": 3
   },
   "file_extension": ".py",
   "mimetype": "text/x-python",
   "name": "python",
   "nbconvert_exporter": "python",
   "pygments_lexer": "ipython3",
   "version": "3.7.9"
  },
  "widgets": {
   "application/vnd.jupyter.widget-state+json": {
    "state": {},
    "version_major": 2,
    "version_minor": 0
   }
  }
 },
 "nbformat": 4,
 "nbformat_minor": 4
}
