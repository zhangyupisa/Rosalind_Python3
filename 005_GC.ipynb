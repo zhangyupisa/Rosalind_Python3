{
 "cells": [
  {
   "cell_type": "markdown",
   "metadata": {},
   "source": [
    "# Problem Title: Computing GC Contebt.\n",
    "## Basic information\n",
    "<li>Enviroment: python3.7.9</li>\n",
    "<li>Rosalind ID: GC</li>\n",
    "<li>Rosalind #: 005</li>\n",
    "<li>URL: http://rosalind.info/problems/gc/</li>\n",
    "<li>Main target: Count the percent of 'GC' in a sequence.</li>\n",
    "\n",
    "## Flow\n",
    "<ol>\n",
    "<li>Define the Fasta Reading function.</li>\n",
    "<li>Read sequence from the FASTA file.</li>\n",
    "<li>Count the 'GC' content and get the max number.</li>\n",
    "</ol>"
   ]
  },
  {
   "cell_type": "code",
   "execution_count": 1,
   "metadata": {},
   "outputs": [],
   "source": [
    "#!/usr/bin/env python\n",
    "'''A ROSALIND bioinformatics script to extract sequence information FASTA format data.'''\n",
    "\n",
    "import urllib\n",
    "import contextlib\n",
    "\n",
    "def ReadFASTA(data_location):\n",
    "        '''Determines the data type of the FASTA format data and passes the appropriate information to be parsed.'''\n",
    "        \n",
    "        # If given a list, return fasta information from all items in the list.\n",
    "        if type(data_location) == list:\n",
    "                fasta_list =[]\n",
    "                for location in data_location:\n",
    "                        fasta_list+=ReadFASTA(location)\n",
    "                return fasta_list\n",
    "\n",
    "\n",
    "        # Check for a text file, return fasta info from the text file.\n",
    "        if data_location[-4:] == '.txt':\n",
    "                with open(data_location) as f:\n",
    "                        return ParseFASTA(f)\n",
    "        \n",
    "        # Check for a website, return fasta info from the website.\n",
    "        elif data_location[0:4] == 'http':\n",
    "                with contextlib.closing(urllib.urlopen(data_location)) as f:\n",
    "                        return ParseFASTA(f)\n",
    "\n",
    "\n",
    "def ParseFASTA(f):\n",
    "        '''Extracts the Sequence Name and Nucleotide/Peptide Sequence from the a FASTA format file or website.'''\n",
    "        fasta_list=[]\n",
    "        for line in f:\n",
    "\n",
    "                # If the line starts with '>' we've hit a new DNA strand, so append the old one and create the new one.\n",
    "                if line[0] == '>':\n",
    "                        \n",
    "                        # Using try/except because intially there will be no current DNA strand to append.\n",
    "                        try:\n",
    "                                fasta_list.append(current_dna)\n",
    "                        except UnboundLocalError:\n",
    "                                pass\n",
    "\n",
    "                        current_dna = [line.lstrip('>').rstrip('\\n'),''] #删除前后空格和制表符\n",
    "\n",
    "                # Otherwise, append the current DNA line to the current DNA\n",
    "                else:\n",
    "                        current_dna[1] += line.rstrip('\\n')\n",
    "        \n",
    "        # Append the final DNA strand after reading all the lines.\n",
    "        fasta_list.append(current_dna)\n",
    "\n",
    "        return fasta_list"
   ]
  },
  {
   "cell_type": "code",
   "execution_count": 2,
   "metadata": {},
   "outputs": [],
   "source": [
    "# Our data is in FASTA form.\n",
    "dna_list = ReadFASTA('data/rosalind_gc.txt')"
   ]
  },
  {
   "cell_type": "code",
   "execution_count": 3,
   "metadata": {},
   "outputs": [
    {
     "name": "stdout",
     "output_type": "stream",
     "text": [
      "Rosalind_0729 \n",
      " 55.49065420560748\n"
     ]
    }
   ],
   "source": [
    "\n",
    "highest_GC = -1\n",
    "highest_GC_name = ''\n",
    "for index, dna_seq in enumerate(dna_list): #enumerate() 函数用于将一个可遍历的数据对象(如列表、元组或字符串)组合为一个索引序列，同时列出数据和数据下标，一般用在 for 循环当中。\n",
    "    GC_count = 0\n",
    "    for nucleotide in dna_seq[1]:\n",
    "        if nucleotide == 'G' or nucleotide == 'C':\n",
    "            GC_count += 1\n",
    "            \n",
    "    GC_amount = ( (GC_count*100.0)/len(dna_seq[1]) )\n",
    "    if GC_amount > highest_GC:\n",
    "        highest_GC = GC_amount\n",
    "        highest_GC_name = dna_list[index][0]\n",
    "\n",
    "\n",
    "# Print the solution.\n",
    "print (highest_GC_name, '\\n', highest_GC)\n",
    "\n",
    "# Write the solution to a text file.\n",
    "with open('output/005_GC.txt', 'w') as output_data:\n",
    "\toutput_data.writelines([str(highest_GC_name),'\\n', str(highest_GC)])"
   ]
  }
 ],
 "metadata": {
  "kernelspec": {
   "display_name": "Python 3",
   "language": "python",
   "name": "python3"
  },
  "language_info": {
   "codemirror_mode": {
    "name": "ipython",
    "version": 3
   },
   "file_extension": ".py",
   "mimetype": "text/x-python",
   "name": "python",
   "nbconvert_exporter": "python",
   "pygments_lexer": "ipython3",
   "version": "3.7.9"
  },
  "widgets": {
   "application/vnd.jupyter.widget-state+json": {
    "state": {},
    "version_major": 2,
    "version_minor": 0
   }
  }
 },
 "nbformat": 4,
 "nbformat_minor": 4
}
