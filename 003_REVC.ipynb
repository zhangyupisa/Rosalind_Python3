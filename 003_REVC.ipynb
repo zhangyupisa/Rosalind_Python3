{
 "cells": [
  {
   "cell_type": "markdown",
   "metadata": {},
   "source": [
    "# Problem Title: Complementing a Strand of DNA\n",
    "## Basic information\n",
    "<li>Enviroment: python3.7.9</li>\n",
    "<li>Rosalind ID: REVC</li>\n",
    "<li>Rosalind #: 003</li>\n",
    "<li>URL: http://rosalind.info/problems/revc/</li>\n",
    "<li>Main target: Interchange GC and TA.</li>\n",
    "\n",
    "## Flow\n",
    "<ol>\n",
    "<li>Read sequence from the file downloaded.</li>\n",
    "<li>Build translation table.</li>\n",
    "<li>Translate.</li>\n",
    "<li>Reverse.</li>    \n",
    "<li>Output the results.</li>\n",
    "</ol>"
   ]
  },
  {
   "cell_type": "code",
   "execution_count": 1,
   "metadata": {},
   "outputs": [
    {
     "name": "stdout",
     "output_type": "stream",
     "text": [
      "GGGGCAGGTTAATCCCGCGGTAGTAATAAGGACATGTCAACCTCACGGCAACCTCAGTTTGGACCGAACAACACCTAGTTCAATGGATGAATAGCCATTATGCCGTGAGGTCAGTTGGGCGTGAATATGACCCAGACGGCTTCTAATGATACATGACGCGCTGGCCCACCCTTGAGATCCGCCTAAGGTTTATTATAACAGGGAGGTGAGCGATGTATGAAATCTGAGACGTAGACGGGCTAGACAGAAAAATAATTTAGTACTTCGACTTCACTTATACATCGTCGAACATTGTTCCCCCCCTATTAATACGCGTCGGGACAGCACCATTAAGGCTTTGCTGCAGTTCTCGGGGTATCTGCGTGGTTAACGTCGGCACCGAGTAATAGCCCTAAACTATCCTCGAGTCTGTGTGCTACACCTGCAGATCATCTGCTCAACAGGTACACAAACCGCAACGGCTTAGTCACGGCAACGGGTAATGGTACCCTCATTCTGAACATACCGCATAGCGTTAAAAATTTTACAAAACGAACCCTATCACCCAGCGCGCATTCCCGACTAGAAGGCGGCGGTAAATCACGTTGAAAAATTGGTCAGTCAGGACGTCCATATTCGACAGGAAATGCGCAGTTGTCCTTTCCAACTACTTTCAAGAGCAGTCGGCCGGCGCTCAAGATGATGGAGGTCTCCAATAAAACGTCTACCATTGCCGTTGGGTTTTTTTACATTTTGGGTGGATGGGTTAAGTACCCTCCGCGTTGTGCTTATAGTATCTCAGTACGTAGTGTGGGAGGATATAATACTAAAACGTAGTGCTTAGGGATTTACTAGAACTGTCGGCGTCCCGCGACCAGACCGTTATAGGATTGTTACGTAAAGCCTCTTCGGTCAATAGAGCGGGTGCCTATAAACAGG\n"
     ]
    }
   ],
   "source": [
    "filename = 'data/rosalind_revc.txt'\n",
    "file = open(filename)\n",
    "Origin = file.read()\n",
    "Table=str.maketrans('ACGT','TGCA')\n",
    "Trans = Origin.translate(Table)\n",
    "Reverse = Trans[::-1].lstrip() #.lstrip() Delete the space on the left.\n",
    "print(Reverse)"
   ]
  }
 ],
 "metadata": {
  "kernelspec": {
   "display_name": "Python 3",
   "language": "python",
   "name": "python3"
  },
  "language_info": {
   "codemirror_mode": {
    "name": "ipython",
    "version": 3
   },
   "file_extension": ".py",
   "mimetype": "text/x-python",
   "name": "python",
   "nbconvert_exporter": "python",
   "pygments_lexer": "ipython3",
   "version": "3.7.9"
  },
  "widgets": {
   "application/vnd.jupyter.widget-state+json": {
    "state": {},
    "version_major": 2,
    "version_minor": 0
   }
  }
 },
 "nbformat": 4,
 "nbformat_minor": 4
}
