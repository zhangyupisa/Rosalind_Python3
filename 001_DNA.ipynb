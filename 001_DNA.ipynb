{
 "cells": [
  {
   "cell_type": "code",
   "execution_count": 3,
   "metadata": {},
   "outputs": [
    {
     "name": "stdout",
     "output_type": "stream",
     "text": [
      "245 245 262 227\n"
     ]
    }
   ],
   "source": [
    "with open('data/rosalind_dna.txt') as input_data:\n",
    "\tdna = input_data.read()\n",
    "    \n",
    "nuc_count = []\n",
    "for nucleotide in ['A', 'C', 'G', 'T']:\n",
    "\tnuc_count.append(str(dna.count(nucleotide)))\n",
    "\n",
    "print(' '.join(nuc_count))"
   ]
  }
 ],
 "metadata": {
  "kernelspec": {
   "display_name": "Python 3",
   "language": "python",
   "name": "python3"
  },
  "language_info": {
   "codemirror_mode": {
    "name": "ipython",
    "version": 3
   },
   "file_extension": ".py",
   "mimetype": "text/x-python",
   "name": "python",
   "nbconvert_exporter": "python",
   "pygments_lexer": "ipython3",
   "version": "3.7.9"
  },
  "widgets": {
   "application/vnd.jupyter.widget-state+json": {
    "state": {},
    "version_major": 2,
    "version_minor": 0
   }
  }
 },
 "nbformat": 4,
 "nbformat_minor": 4
}
