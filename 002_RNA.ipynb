{
 "cells": [
  {
   "cell_type": "markdown",
   "metadata": {},
   "source": [
    "# Problem Title: Transcribing DNA into RNA\n",
    "## Basic information\n",
    "</ul>\n",
    "<li>Enviroment: python3.7.9</li>\n",
    "<li>Rosalind ID: RNA</li>\n",
    "<li>Rosalind #: 002</li>\n",
    "<li>URL: http://rosalind.info/problems/rna/</li>\n",
    "<li>Main target: Let U replace T.</li>\n",
    "</ul>\n",
    "## Flow\n",
    "</ol>\n",
    "<li>Read sequence from the file downloaded.</li>\n",
    "<li>Repalce T with U in the string.</li>\n",
    "<li>Output the results.</li>\n",
    "</ol>"
   ]
  },
  {
   "cell_type": "code",
   "execution_count": 6,
   "metadata": {},
   "outputs": [
    {
     "name": "stdout",
     "output_type": "stream",
     "text": [
      "AACACAACUUCGACUAUAUUCCCUCCGCACACCCUCCAGAGGACAGUGCGAACCGAAUGCUUAGUAUUGCUCCACUUUAUUGUCAGUUAGGAUAUGUCUAAUGUAAAGGGCGCCGUAGGCGGUCCGGUAGACCGCCCAUUACUUGGGUUGCAUUCACCUCCAUUGGGUUGAGUGGAAGACUACGUAUAUACCUUUGGUUCGUUUUUUUGUCGAGCAUAGUCAAGAAGAUGAACCUGAUGGCCGUGACUUUACCAUGGAAAUAUCUCCAAUACCGCGCCAUAUUGUGCUAUCCAUUUGACGCUAACACCCUAGCCGACGUGACCCUGGCUCGGGUCUGGAUUGUCUGACGCAGCUUUGACUACAGGAUCAGCAGGGCAUUAGAUUUACUAAACAGAUUAAUCCCUAAAUGGCCUUGCUACGAAUAUGCAGAUGACGGGCGUCAAGAGAAAAGUCUGGCUUCGCGGGUACAGAUAUUAAGAUAGUACUGCACAUAUCCUCCCCGACGAGCCCAGCUGUGGCGACAGAAAGGACAGCGUUCCUUGGCGCCAGUUAUGCGGUAAAAUGAACAAUUGCCCGCAACUCCAUUGCUCCAGUAGCGUAUGCACCCUUAGACCGGGCUCGUGCGUUGGCAGCGCACUCCUUAUAUUUACUUCACCUGCCAUUUGCAGUGCCCGGUCGGCAAGUCCUGGGAAAAUUAUGAGCCAAACAGUUAGGUCUUCACGCAUGCUCUCUGGUUCAGCGCCUGGCUACGACUGUCUAUCUCGCGAAUCUAUGUAUCGACAACAUUGAAGGUGCCAUCCUCUACCAACCGAUAUUGUAAGGAAGAUGGCAGACCGACUAUGUCACGCCGACUCAGACGCCUAAUGUCUCCGUCCGGUUACCCAUGCCCGGGGGCGGAAACUAUGCGAGUACGUGCGGUUGUAUAGUGAGAGUGAAGCGGUCAUCGUC\n",
      "\n"
     ]
    }
   ],
   "source": [
    "filename = 'data/rosalind_rna.txt'\n",
    "file = open(filename)\n",
    "DNA = file.read()\n",
    "RNA = DNA.replace('T', 'U')\n",
    "print(RNA)"
   ]
  },
  {
   "cell_type": "code",
   "execution_count": null,
   "metadata": {},
   "outputs": [],
   "source": []
  }
 ],
 "metadata": {
  "kernelspec": {
   "display_name": "Python 3",
   "language": "python",
   "name": "python3"
  },
  "language_info": {
   "codemirror_mode": {
    "name": "ipython",
    "version": 3
   },
   "file_extension": ".py",
   "mimetype": "text/x-python",
   "name": "python",
   "nbconvert_exporter": "python",
   "pygments_lexer": "ipython3",
   "version": "3.7.9"
  },
  "widgets": {
   "application/vnd.jupyter.widget-state+json": {
    "state": {},
    "version_major": 2,
    "version_minor": 0
   }
  }
 },
 "nbformat": 4,
 "nbformat_minor": 4
}
